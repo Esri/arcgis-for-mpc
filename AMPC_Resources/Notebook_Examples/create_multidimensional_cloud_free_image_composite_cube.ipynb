{
 "cells": [
  {
   "cell_type": "markdown",
   "metadata": {},
   "source": [
    "# This notebook demonstrates the workflow of creating a multidimensional cloud-free Landsat imagery cube from Microsoft Planetary Computer for the Amazon forest"
   ]
  },
  {
   "cell_type": "markdown",
   "metadata": {},
   "source": [
    "The workflow includes the following steps:\n",
    "1. Find all the Landsat scenes from 1984-2023 in the Amazon forest\n",
    "2. Create a RasterCollection from all the scenes\n",
    "3. Use a custom function to remove cloud pixels from all the Landsat images\n",
    "4. Use the median function to find the best pixel from all overlapping images in each year\n",
    "5. Convert the result to a yearly multidimensional raster\n",
    "\n",
    "#### Estimated running time: 8 hrs (reduce the number of years to reduce running time)"
   ]
  },
  {
   "cell_type": "markdown",
   "metadata": {},
   "source": [
    "### Import relevant modules and create a RasterCollection of Landsat-9 images from planetary computer archive "
   ]
  },
  {
   "cell_type": "code",
   "execution_count": null,
   "metadata": {},
   "outputs": [],
   "source": [
    "import arcpy\n",
    "from arcpy import AIO"
   ]
  },
  {
   "cell_type": "code",
   "execution_count": null,
   "metadata": {},
   "outputs": [],
   "source": [
    "# Create an AIO object from the cloud storage connection file for data access\n",
    "a = AIO(r'C:\\AMPC_Resources\\ACS_Files\\esrims_pc_landsat-c2-l2.acs')"
   ]
  },
  {
   "cell_type": "code",
   "execution_count": null,
   "metadata": {},
   "outputs": [],
   "source": [
    "# Define the query to search for images\n",
    "query = {\n",
    "    \"collections\": [\"landsat-c2-l2\"], # Landsat collection 2 level 2 product (https://planetarycomputer.microsoft.com/dataset/landsat-c2-l2)\n",
    "    \"bbox\": [-51.9370008, -6.4641491 , -51.7794525, -6.2008215], # Define bounding box over the Amazon forest\n",
    "    \"query\": {\"eo:cloud_cover\": {\"lt\": 10}}, # Define cloud cover requirements    \n",
    "    \"datetime\": \"1984-01-01/2023-12-31\", # Define time range\n",
    "    \"limit\": 1000, # Define max number of results to be returned\n",
    "          }"
   ]
  },
  {
   "cell_type": "markdown",
   "metadata": {},
   "source": [
    "**Certain files may be corrupted in the MPC collection so some datasets may be skipped**"
   ]
  },
  {
   "cell_type": "code",
   "execution_count": null,
   "metadata": {},
   "outputs": [],
   "source": [
    "# Create a RasterCollection object that contains the search results\n",
    "rc = arcpy.ia.RasterCollection.fromSTACAPI(stac_api=\"https://planetarycomputer.microsoft.com/api/stac/v1\",\n",
    "                                  query=query,\n",
    "                                  attribute_dict={\n",
    "                                      \"Name\":\"id\",\n",
    "                                      \"Cloud Cover\":\"eo:cloud_cover\",\n",
    "                                      \"StdTime\":\"datetime\",\n",
    "                                      \"Platform\":\"platform\",\n",
    "                                      \"Spatial Reference\":\"proj:epsg\",\n",
    "                                      \"Extent\": \"bbox\",\n",
    "                                    },\n",
    "                                    # Note the bands imported through assetManagement will be renamed to Band_1, Band_2 ... etc\n",
    "                                    context={\"assetManagement\": [\"red\", \"green\", \"blue\", \"nir08\", \"qa_pixel\"]})\n"
   ]
  },
  {
   "cell_type": "code",
   "execution_count": null,
   "metadata": {},
   "outputs": [],
   "source": [
    "# Visualize the RasterCollection\n",
    "rc"
   ]
  },
  {
   "cell_type": "code",
   "execution_count": null,
   "metadata": {},
   "outputs": [],
   "source": [
    "# Get number of scenes from each sensor\n",
    "print(f\"{'Total number of scenes:' :<25} {len(rc)}\")\n",
    "print(f\"{'Landsat 9:' :<25} {rc.getFieldValues('Platform').count('landsat-9')}\")\n",
    "print(f\"{'Landsat 8:' :<25} {rc.getFieldValues('Platform').count('landsat-8')}\")\n",
    "print(f\"{'Landsat 7:' :<25} {rc.getFieldValues('Platform').count('landsat-7')}\")\n",
    "print(f\"{'Landsat 5:' :<25} {rc.getFieldValues('Platform').count('landsat-5')}\")\n",
    "print(f\"{'Landsat 4:' :<25} {rc.getFieldValues('Platform').count('landsat-4')}\")"
   ]
  },
  {
   "cell_type": "markdown",
   "metadata": {},
   "source": [
    "### Define a function to remove cloud pixels and compute cloud-free composite"
   ]
  },
  {
   "cell_type": "code",
   "execution_count": null,
   "metadata": {},
   "outputs": [],
   "source": [
    "# Define function to remove cloud pixels based on QA band\n",
    "def remove_cloud(item):\n",
    "    raster = item['Raster']\n",
    "    # QA band is renamed to 'Band_5' after import\n",
    "    qa_band = raster.getRasterBands(['Band_5'])\n",
    "    \n",
    "    cloud_mask = arcpy.ia.TransposeBits(qa_band, [0,1,2,3,4], [0,1,2,3,4], 0, None)\n",
    "    value_mask = ~cloud_mask\n",
    "    \n",
    "    cloud_free_raster = arcpy.ia.Clip(raster, aoi = value_mask)\n",
    "    \n",
    "    return {'raster': cloud_free_raster, \"Name\": item[\"Name\"], \"StdTime\": item[\"StdTime\"]}"
   ]
  },
  {
   "cell_type": "code",
   "execution_count": null,
   "metadata": {},
   "outputs": [],
   "source": [
    "# Apply the above function to remove cloud pixels from each image in the RasterCollection\n",
    "rc_cloud_free = rc.map(remove_cloud)"
   ]
  },
  {
   "cell_type": "code",
   "execution_count": null,
   "metadata": {},
   "outputs": [],
   "source": [
    "year_medians = []\n",
    "years = []\n",
    "\n",
    "# Loop through the years to create a cloud-free composite for each year\n",
    "for year in range(1984,2024):\n",
    "    # Filter the collection by each year\n",
    "    rc_year = rc_cloud_free.filterByTime(str(year)+'-01-01', str(year)+'-12-31', time_field_name = \"StdTime\", date_time_format = '%Y-%m-%d')\n",
    "    \n",
    "    if rc_year:    \n",
    "        # Apply the Median function to find the most representative pixels value from overlapping images        \n",
    "        cloud_free_composite_median = rc_year.median(ignore_nodata = True, extent_type = 'UnionOf')\n",
    "        # Add the output raster to list\n",
    "        year_medians.append(cloud_free_composite_median)\n",
    "        years.append(year)"
   ]
  },
  {
   "cell_type": "code",
   "execution_count": null,
   "metadata": {},
   "outputs": [],
   "source": [
    "# Create a RasterCollection of yearly median composites\n",
    "rc_yearly_median = arcpy.ia.RasterCollection(rasters = year_medians, attribute_dict = {'variable': 'median', 'StdTime': years})"
   ]
  },
  {
   "cell_type": "code",
   "execution_count": null,
   "metadata": {},
   "outputs": [],
   "source": [
    "# Convert the RasterCollection to a multidimensional raster\n",
    "yearly_median_mdim = rc_yearly_median.toMultidimensionalRaster(variable_field_name = 'variable', dimension_field_names = 'StdTime')"
   ]
  },
  {
   "cell_type": "code",
   "execution_count": null,
   "metadata": {},
   "outputs": [],
   "source": [
    "%%time\n",
    "# Save the multidimensional raster to disk\n",
    "yearly_median_mdim.save(r'c:\\temp\\yearly_median.crf')"
   ]
  }
 ],
 "metadata": {
  "kernelspec": {
   "display_name": "ArcGISPro",
   "language": "python",
   "name": "python3"
  },
  "language_info": {
   "file_extension": ".py",
   "mimetype": "text/x-python",
   "name": "python",
   "version": "3.11.10"
  }
 },
 "nbformat": 4,
 "nbformat_minor": 4
}
