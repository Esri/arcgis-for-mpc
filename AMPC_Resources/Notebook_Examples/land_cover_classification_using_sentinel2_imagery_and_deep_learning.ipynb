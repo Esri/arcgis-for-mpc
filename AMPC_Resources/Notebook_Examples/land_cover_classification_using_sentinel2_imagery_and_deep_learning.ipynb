{
 "cells": [
  {
   "cell_type": "markdown",
   "metadata": {},
   "source": [
    "# This workflow demonstrates the workflow to perform land cover classification using Sentinel-2 Imagery from Microsoft Planetary Computer and pre-trained deep learning model from ArcGIS Online"
   ]
  },
  {
   "cell_type": "markdown",
   "metadata": {},
   "source": [
    "The workflow includes the following steps:\n",
    "1. Find all the Sentinel-2 scenes from 2022 that covers Los Angeles\n",
    "2. Create a RasterCollection from all the scenes\n",
    "3. Sort the RasterCollection by cloud cover to get a scene with the least cloud\n",
    "4. Use the Classify Pixels Using DeepLearning tool to classify the image and save output\n",
    "\n",
    "##### Note: It's highly recommended to use a NVIDIA GPU-enabled machine to perform this workflow. You may need to install the driver manually (https://learn.microsoft.com/en-us/azure/virtual-machines/windows/n-series-driver-setup)\n",
    "##### The output may not appear correct if you use GPU fobut have not installed the driver\n",
    "\n",
    "#### Estimated running time: 30 minutes (with GPU) / 4.5 hours (without GPU)"
   ]
  },
  {
   "cell_type": "markdown",
   "metadata": {},
   "source": [
    "### Import relevant modules and log in to ArcGIS Online"
   ]
  },
  {
   "cell_type": "code",
   "execution_count": null,
   "metadata": {},
   "outputs": [],
   "source": [
    "import arcpy\n",
    "from arcpy import AIO\n",
    "import getpass\n",
    "from arcgis.gis import GIS"
   ]
  },
  {
   "cell_type": "code",
   "execution_count": null,
   "metadata": {},
   "outputs": [],
   "source": [
    "# Log in to ArcGIS online to access deep learning models\n",
    "portal=\"https://arcgis.com\"\n",
    "username = getpass.getpass('Enter AGOL username:')\n",
    "password = getpass.getpass('Enter AGOL password: ')\n",
    "params = arcpy.SignInToPortal(portal,username,password)\n",
    "gis = GIS(portal)"
   ]
  },
  {
   "cell_type": "markdown",
   "metadata": {},
   "source": [
    "### Create a RasterCollection of potential scenes from planetary computer archive "
   ]
  },
  {
   "cell_type": "code",
   "execution_count": null,
   "metadata": {},
   "outputs": [],
   "source": [
    "# Create an AIO object from the cloud storage connection file for data access\n",
    "a = AIO(r'C:\\AMPC_Resources\\ACS_Files\\esrims_pc_sentinel-2-l2a.acs')"
   ]
  },
  {
   "cell_type": "code",
   "execution_count": null,
   "metadata": {},
   "outputs": [],
   "source": [
    "# Define the query to search for images\n",
    "query = {\n",
    "    \"collections\": [\"sentinel-2-l2a\"], # Sentinel-2 level 2A product (https://planetarycomputer.microsoft.com/dataset/sentinel-2-l2a)\n",
    "    \"bbox\": [-118.5006071, 33.9690070, -118.4480544, 34.0457182], # Define bounding box over Los Angeles\n",
    "    \"datetime\": \"2022-01-01/2022-12-31\", # Define time range\n",
    "    \"limit\": 1000, # Define max number of results to be returned\n",
    "          }"
   ]
  },
  {
   "cell_type": "code",
   "execution_count": null,
   "metadata": {},
   "outputs": [],
   "source": [
    "# Create a RasterCollection object that contains the search results\n",
    "rc = arcpy.ia.RasterCollection.fromSTACAPI(stac_api=\"https://planetarycomputer.microsoft.com/api/stac/v1\",\n",
    "                                  query=query,\n",
    "                                  attribute_dict={\n",
    "                                      \"Name\":\"id\",\n",
    "                                      \"Cloud Cover\":\"eo:cloud_cover\",\n",
    "                                      \"StdTime\":\"datetime\",\n",
    "                                      \"Spatial Reference\":\"proj:epsg\",\n",
    "                                      \"Extent\": \"bbox\",\n",
    "                                    })"
   ]
  },
  {
   "cell_type": "markdown",
   "metadata": {},
   "source": [
    "### Find image with least cloud cover from RasterCollection for classification"
   ]
  },
  {
   "cell_type": "code",
   "execution_count": null,
   "metadata": {},
   "outputs": [],
   "source": [
    "# Sort the collection by ascending cloud cover percentage and select the image with least cloud\n",
    "rc_sort_by_cloud_cover = rc.sort('Cloud Cover')\n",
    "input_raster = rc_sort_by_cloud_cover[0]['Raster']"
   ]
  },
  {
   "cell_type": "code",
   "execution_count": null,
   "metadata": {},
   "outputs": [],
   "source": [
    "# Visualize the sorted RasterCollection\n",
    "rc_sort_by_cloud_cover"
   ]
  },
  {
   "cell_type": "code",
   "execution_count": null,
   "metadata": {},
   "outputs": [],
   "source": [
    "# Choose the the first raster from the sorted colleciton as input raster\n",
    "input_raster = rc_sort_by_cloud_cover[0]['Raster']"
   ]
  },
  {
   "cell_type": "markdown",
   "metadata": {},
   "source": [
    "### Perform land cover classification using a deep learning model from ArcGIS Online\n",
    "\n",
    "Now we need to use ArcGIS API for Python to search for a suitable deep learning model (dlpk) on ArcGIS Online\n",
    "<br>\n",
    "Documentation on how to perform a search on ArcGIS Online:\n",
    "https://developers.arcgis.com/python/guide/accessing-and-creating-content/#searching-for-content-in-arcgis-online"
   ]
  },
  {
   "cell_type": "code",
   "execution_count": null,
   "metadata": {},
   "outputs": [],
   "source": [
    "# Search for a suitable deep learning model on ArcGIS Online\n",
    "query = 'sentinel land cover classification dlpk, owner:esri_analytics'\n",
    "classification_models = gis.content.search(query = query, max_items = 30, outside_org = True)\n",
    "for model in classification_models:\n",
    "    display(model)"
   ]
  },
  {
   "cell_type": "markdown",
   "metadata": {},
   "source": [
    "Here we want to use **Land Cover Classification (Sentinel-2)** model.\n",
    "<br>\n",
    "The model link is https://www.arcgis.com/home/item.html?id=afd124844ba84da69c2c533d4af10a58.\n",
    "<br>\n",
    "We need to obtain the model id which is **afd124844ba84da69c2c533d4af10a58**"
   ]
  },
  {
   "cell_type": "code",
   "execution_count": null,
   "metadata": {},
   "outputs": [],
   "source": [
    "deeplearning_model_id = 'afd124844ba84da69c2c533d4af10a58'"
   ]
  },
  {
   "cell_type": "code",
   "execution_count": null,
   "metadata": {},
   "outputs": [],
   "source": [
    "# Classify the image using a deep learning model\n",
    "# Make sure you have installed the GPU driver if you specify processorType=\"GPU\",  otherwise specify processorType=\"CPU\"\n",
    "with arcpy.EnvManager(processorType=\"GPU\"): \n",
    "    out_classified_raster = arcpy.ia.ClassifyPixelsUsingDeepLearning(\n",
    "        in_raster = input_raster,\n",
    "        in_model_definition = \"https://www.arcgis.com/sharing/rest/content/items/\" + deeplearning_model_id,\n",
    "        arguments  =\"padding 128;batch_size 4;predict_background True;test_time_augmentation True;tile_size 512;output_label_level 2;sentinel_imagery_level 2;merge_classes true\",\n",
    "        processing_mode = \"PROCESS_AS_MOSAICKED_IMAGE\",\n",
    "        out_classified_folder = None,\n",
    "        out_featureclass = None,\n",
    "        overwrite_attachments = \"NO_OVERWRITE\"\n",
    "    )\n",
    "    # Save output to a local file\n",
    "    out_classified_raster.save(r\"C:\\Temp\\LA_classified.tif\")"
   ]
  },
  {
   "cell_type": "code",
   "execution_count": null,
   "metadata": {},
   "outputs": [],
   "source": [
    "# Display the output\n",
    "out_classified_raster"
   ]
  }
 ],
 "metadata": {
  "kernelspec": {
   "display_name": "ArcGISPro",
   "language": "Python",
   "name": "python3"
  },
  "language_info": {
   "file_extension": ".py",
   "name": "python",
   "version": "3"
  }
 },
 "nbformat": 4,
 "nbformat_minor": 2
}
