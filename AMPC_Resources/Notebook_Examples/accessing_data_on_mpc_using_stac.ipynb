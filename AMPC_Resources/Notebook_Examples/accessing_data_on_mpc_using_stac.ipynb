{
 "cells": [
  {
   "cell_type": "markdown",
   "metadata": {},
   "source": [
    "# This notebook demonstrates how to access data on Microsoft Planetary Computer using STAC API"
   ]
  },
  {
   "cell_type": "markdown",
   "metadata": {},
   "source": [
    "This notebook includes steps to access data on MPC using the arcpy STAC API. Key steps include:\n",
    "1. Finding the data collection of interest and the corresponding cloud storage connection file (if required)\n",
    "2. Defining a query to search for data in the collection\n",
    "3. Accessing search results\n",
    "\n",
    "#### Estimated running time: 2 minutes"
   ]
  },
  {
   "cell_type": "code",
   "execution_count": null,
   "metadata": {},
   "outputs": [],
   "source": [
    "import arcpy\n",
    "from arcpy import AIO"
   ]
  },
  {
   "cell_type": "markdown",
   "metadata": {},
   "source": [
    "### A cloud storage connection file is often required to access the data\n",
    "\n",
    "Check this link for the list of collections and whether ACS file is required:\n",
    "<br>\n",
    "https://pro.arcgis.com/en/pro-app/latest/help/data/imagery/supported-stac-collections.htm"
   ]
  },
  {
   "cell_type": "code",
   "execution_count": null,
   "metadata": {},
   "outputs": [],
   "source": [
    "# Create an AIO object from the cloud storage connection file for data access\n",
    "a = AIO(r'C:\\AMPC_Resources\\ACS_Files\\esrims_pc_landsat-c2-l2.acs')"
   ]
  },
  {
   "cell_type": "markdown",
   "metadata": {},
   "source": [
    "### A query is required to search for data of interest.\n",
    "\n",
    "A commonly used query consists of 5 keywords:\n",
    "1. collections: name of the collection requested\n",
    "2. bbox: the geographical bounding box of the search in the form of \n",
    "<br>[Lower left corner X, Lower left  corner Y, Upper right corner X, Upper right corner Y] in WGS84 coordinates\n",
    "3. query: text search for collection metadata\n",
    "<br>metadata can be found under each collection's API site.\n",
    "<br>e.g. Landsat collection 2 level 2: https://planetarycomputer.microsoft.com/api/stac/v1/collections/landsat-c2-l2\n",
    "4. datetime: time range of the search\n",
    "5. limit: the maximum number of results to be returned\n",
    "\n",
    "More details on query parameters can be found here:\n",
    "<br>\n",
    "https://docs.ogc.org/DRAFTS/20-004.html#core-query-parameters\n",
    "<br>\n",
    "https://github.com/stac-api-extensions/query"
   ]
  },
  {
   "cell_type": "code",
   "execution_count": null,
   "metadata": {},
   "outputs": [],
   "source": [
    "# Example query for Landsat collection 2 level 2 product\n",
    "query = {\n",
    "    \"collections\": [\"landsat-c2-l2\"], # collection id of Landsat collection 2 level 2 product (https://planetarycomputer.microsoft.com/dataset/landsat-c2-l2)\n",
    "    \"bbox\": [-156.1271927, 18.8710955, -154.7755921, 20.2990569], # bounding box over Hawaii island\n",
    "    \"query\": {\"platform\": {\"in\": [\"landsat-8\"]}}, # query to only return Landsat-8 images\n",
    "    \"datetime\": \"2022-01-01/2022-12-31\", # time range\n",
    "    \"limit\": 10, # max number of results to be returned\n",
    "}"
   ]
  },
  {
   "cell_type": "markdown",
   "metadata": {},
   "source": [
    "### attribute_dict is an optional parameter that specifies what metadata you want to return to the RasterCollection.\n",
    "\n",
    "metadata can be found under each collection's API site\n",
    "<br>\n",
    "e.g. Landsat collection 2 level 2: https://planetarycomputer.microsoft.com/api/stac/v1/collections/landsat-c2-l2 "
   ]
  },
  {
   "cell_type": "code",
   "execution_count": null,
   "metadata": {},
   "outputs": [],
   "source": [
    "# Example attribute_dict for Landsat collection 2 level 2 product\n",
    "attribute_dict = {\n",
    "    \"Name\":\"id\",\n",
    "    \"Cloud Cover\":\"eo:cloud_cover\",\n",
    "    \"StdTime\":\"datetime\",\n",
    "    \"Platform\":\"platform\",\n",
    "    \"Spatial Reference\":\"proj:epsg\",\n",
    "    \"Extent\": \"bbox\",\n",
    "}"
   ]
  },
  {
   "cell_type": "markdown",
   "metadata": {},
   "source": [
    "### A RasterCollection is required to return the search result in a usable container"
   ]
  },
  {
   "cell_type": "code",
   "execution_count": null,
   "metadata": {},
   "outputs": [],
   "source": [
    "# Create a RasterCollection object that contains the search results\n",
    "rc = arcpy.ia.RasterCollection.fromSTACAPI(stac_api=\"https://planetarycomputer.microsoft.com/api/stac/v1\",\n",
    "                                           query=query,\n",
    "                                           attribute_dict=attribute_dict)"
   ]
  },
  {
   "cell_type": "code",
   "execution_count": null,
   "metadata": {},
   "outputs": [],
   "source": [
    "rc"
   ]
  },
  {
   "cell_type": "markdown",
   "metadata": {},
   "source": [
    "### You can also customize the data returned to the RasterCollection using the context parameter\n",
    "\n",
    "Available keys are processingTemplate and assetManagement\n",
    "<br>\n",
    "1. processingTemplate.\n",
    "    This specifies the template used to pre-process the raw data or combinations of the raw data that is returned to the RasterCollection. The default is Multiband.\n",
    "<br>Available processing templates can be found: https://pro.arcgis.com/en/pro-app/3.3/help/data/imagery/satellite-sensor-raster-types.htm\n",
    "\n",
    "2. assetManagement. This specifies the individual assets to be returned to the RasterCollection. If multiple assets are selected, the collection will be composed of multiband rasters from those selected asset types."
   ]
  },
  {
   "cell_type": "code",
   "execution_count": null,
   "metadata": {},
   "outputs": [],
   "source": [
    "# Create a RasterCollection object with processingTemplate applied\n",
    "rc_template = arcpy.ia.RasterCollection.fromSTACAPI(stac_api=\"https://planetarycomputer.microsoft.com/api/stac/v1\",\n",
    "                                           query=query,\n",
    "                                           attribute_dict=attribute_dict,\n",
    "                                           context = {\"processingTemplate\": \"Surface Reflectance\"})"
   ]
  },
  {
   "cell_type": "code",
   "execution_count": null,
   "metadata": {},
   "outputs": [],
   "source": [
    "rc_template[0]['Raster'].bandNames"
   ]
  },
  {
   "cell_type": "code",
   "execution_count": null,
   "metadata": {},
   "outputs": [],
   "source": [
    "# Create a RasterCollection object with assetManagement applied\n",
    "rc_asset = arcpy.ia.RasterCollection.fromSTACAPI(stac_api=\"https://planetarycomputer.microsoft.com/api/stac/v1\",\n",
    "                                           query=query,\n",
    "                                           attribute_dict=attribute_dict,\n",
    "                                           context = {\"assetManagement\": [\"red\", \"green\", \"blue\"]})"
   ]
  },
  {
   "cell_type": "code",
   "execution_count": null,
   "metadata": {},
   "outputs": [],
   "source": [
    "# Comparing the different band combinations returned to the 3 raster collections\n",
    "print(f\"{'Default template (Multiband):' :<30} {rc[0]['Raster'].bandNames}\")\n",
    "print(f\"{'Surface Reflectance template:' :<30} {rc_template[0]['Raster'].bandNames}\")\n",
    "print(f\"{'Specific assets:' :<30} {rc_asset[0]['Raster'].bandNames}\")"
   ]
  }
 ],
 "metadata": {
  "kernelspec": {
   "display_name": "ArcGISPro",
   "language": "Python",
   "name": "python3"
  },
  "language_info": {
   "file_extension": ".py",
   "name": "python",
   "version": "3"
  }
 },
 "nbformat": 4,
 "nbformat_minor": 2
}
