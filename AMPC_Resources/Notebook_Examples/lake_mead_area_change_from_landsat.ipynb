{
 "cells": [
  {
   "cell_type": "markdown",
   "metadata": {},
   "source": [
    "# This notebook demonstrates the workflow of using Landsat imagery from Microsoft Planetary Computer to map the area of Lake Mead and plot its changes over time."
   ]
  },
  {
   "cell_type": "markdown",
   "metadata": {},
   "source": [
    "The workflow includes the following steps:\n",
    "1. Find all the Landsat scenes between 1984 and 2020 from Planetary Computer that covers Lake Mead which has less than 10% cloud cover\n",
    "2. Create a RasterCollection from all the scenes\n",
    "3. Use a water detection algorithm to extract all water pixels from the Landsat images\n",
    "4. Use a function to find connected water pixels that represent a water body\n",
    "5. Find the area of the largest water body in the scene (Lake Mead) and plot the area over time\n",
    "\n",
    "#### Estimated running time: 3 hours"
   ]
  },
  {
   "cell_type": "markdown",
   "metadata": {},
   "source": [
    "## Find data and create RasterCollection from Microsoft Planetary Computer"
   ]
  },
  {
   "cell_type": "markdown",
   "metadata": {},
   "source": [
    "### Import relevant modules"
   ]
  },
  {
   "cell_type": "code",
   "execution_count": null,
   "metadata": {},
   "outputs": [],
   "source": [
    "%matplotlib inline\n",
    "import arcpy\n",
    "import numpy as np\n",
    "from matplotlib import pyplot as plt\n",
    "from arcpy import AIO\n",
    "from datetime import datetime"
   ]
  },
  {
   "cell_type": "markdown",
   "metadata": {},
   "source": [
    "### Find data and create RasterCollection from Microsoft Planetary Computer"
   ]
  },
  {
   "cell_type": "code",
   "execution_count": null,
   "metadata": {},
   "outputs": [],
   "source": [
    "# Create an AIO object from the cloud storage connection file for data access\n",
    "a = AIO(r'C:\\AMPC_Resources\\ACS_Files\\esrims_pc_landsat-c2-l2.acs')"
   ]
  },
  {
   "cell_type": "code",
   "execution_count": null,
   "metadata": {},
   "outputs": [],
   "source": [
    "# Define the query to search for images\n",
    "query = {\n",
    "    \"collections\": [\"landsat-c2-l2\"], # Landsat collection 2 level 2 product (https://planetarycomputer.microsoft.com/dataset/landsat-c2-l2)\n",
    "    \"bbox\": [-114.4345455, 36.1617946, -114.43, 36.162], # Define bounding box over Lake Mead\n",
    "    \"query\": {\"eo:cloud_cover\": {\"lt\": 10}}, # Define cloud cover requirements\n",
    "    \"datetime\": \"1984-01-01/2023-12-31\", # Define time range\n",
    "    \"limit\": 1000, # Define max number of results to be returned\n",
    "          }"
   ]
  },
  {
   "cell_type": "code",
   "execution_count": null,
   "metadata": {},
   "outputs": [],
   "source": [
    "# Create a RasterCollection object that contains the search results\n",
    "# You may see some errors due to the source images being corrupted. These images will be skipped.\n",
    "rc = arcpy.ia.RasterCollection.fromSTACAPI(stac_api=\"https://planetarycomputer.microsoft.com/api/stac/v1\",\n",
    "                                  query=query,\n",
    "                                  attribute_dict={\n",
    "                                      \"Name\":\"id\",\n",
    "                                      \"Cloud Cover\":\"eo:cloud_cover\",\n",
    "                                      \"StdTime\":\"datetime\",\n",
    "                                      \"Platform\":\"platform\",\n",
    "                                      \"Spatial Reference\":\"proj:epsg\",\n",
    "                                      \"Extent\": \"bbox\",\n",
    "                                    })"
   ]
  },
  {
   "cell_type": "code",
   "execution_count": null,
   "metadata": {},
   "outputs": [],
   "source": [
    "# Display the RasterCollection\n",
    "rc"
   ]
  },
  {
   "cell_type": "code",
   "execution_count": null,
   "metadata": {},
   "outputs": [],
   "source": [
    "# Get number of scenes from each sensor\n",
    "print(f\"{'Total number of scenes:' :<25} {len(rc)}\")\n",
    "print(f\"{'Landsat 9:' :<25} {rc.getFieldValues('Platform').count('landsat-9')}\")\n",
    "print(f\"{'Landsat 8:' :<25} {rc.getFieldValues('Platform').count('landsat-8')}\")\n",
    "print(f\"{'Landsat 7:' :<25} {rc.getFieldValues('Platform').count('landsat-7')}\")\n",
    "print(f\"{'Landsat 5:' :<25} {rc.getFieldValues('Platform').count('landsat-5')}\")\n",
    "print(f\"{'Landsat 4:' :<25} {rc.getFieldValues('Platform').count('landsat-4')}\")"
   ]
  },
  {
   "cell_type": "markdown",
   "metadata": {},
   "source": [
    "## Data processing"
   ]
  },
  {
   "cell_type": "markdown",
   "metadata": {},
   "source": [
    "### Define water detection algorithm"
   ]
  },
  {
   "cell_type": "code",
   "execution_count": null,
   "metadata": {},
   "outputs": [],
   "source": [
    "# Detect water in Landsat using NDWI thresholding\n",
    "def detect_water(item):\n",
    "    \n",
    "    # Define band designations for each sesnor\n",
    "    if item['Platform'] == 'landsat-8':\n",
    "        nir = 5\n",
    "        green = 3\n",
    "    else:\n",
    "        nir = 4\n",
    "        green = 2\n",
    "\n",
    "    raster = item['Raster']\n",
    "\n",
    "    # Calculate NDWI for each raster and apply a threshold to identify water pixels\n",
    "    ndwi = arcpy.ia.NDWI(raster, nir_band_id = nir, green_band_id = green)\n",
    "    ndwi_thres = arcpy.ia.GreaterThan(ndwi, ndwiThresh)\n",
    "    out_water_mask = ndwi_thres\n",
    "\n",
    "    # Return the thresholded NDWI image to a new RasterCollection\n",
    "    return {\"raster\": out_water_mask, 'Name': item['Name'], \"StdTime\": item['StdTime']}\n"
   ]
  },
  {
   "cell_type": "markdown",
   "metadata": {},
   "source": [
    "### Define function to identify water bodies"
   ]
  },
  {
   "cell_type": "code",
   "execution_count": null,
   "metadata": {},
   "outputs": [],
   "source": [
    "# Identify groups of water pixels as water bodies\n",
    "def water_bodies(in_ras):\n",
    "    \n",
    "    background_removed = arcpy.ia.SetNull(in_ras, in_ras, 'value = 0')\n",
    "    \n",
    "    # Using 8-neighbors pixel connectivity \n",
    "    connected_pixel = arcpy.sa.RegionGroup(background_removed, 'Eight', 'Cross', '', 0)\n",
    "    count = arcpy.ia.Lookup(connected_pixel, 'Count')\n",
    "    \n",
    "    return count"
   ]
  },
  {
   "cell_type": "markdown",
   "metadata": {},
   "source": [
    "### Perform lake extraction by year"
   ]
  },
  {
   "cell_type": "code",
   "execution_count": null,
   "metadata": {
    "scrolled": true
   },
   "outputs": [],
   "source": [
    "# Run the last 10 years to reduce running time\n",
    "year = 2013;                #enter end year of interest\n",
    "year_end = 2013;            #enter end year of interest\n",
    "ndwiThresh = 0;          #change as appropriate for AOI\n",
    "ndwiThresh_fraction = 0.05;  #fraction of images that meet threshold defined above (e.g. 0.3 equals 30% occurrence of greater than NDWI threshold)\n",
    "\n",
    "# Save lake area and year information in a dictionary\n",
    "area_dict = {}\n",
    "\n",
    "while year <= year_end:\n",
    "    # filter raster collection by time\n",
    "    landsat_by_year = rc.filterByTime(str(year)+'-01-01', str(year)+'-12-31', date_time_format = '%Y-%m-%d')\n",
    "    # detect water occurrence\n",
    "    landsat_map = landsat_by_year.map(detect_water)\n",
    "    # get frequency of band indices that are over threshold\n",
    "    perc = landsat_map.mean()\n",
    "    # get water based on frequency thresholds\n",
    "    water_pixels = arcpy.ia.GreaterThan(perc, ndwiThresh_fraction)\n",
    "    # get water body pixel count\n",
    "    lakes = water_bodies(water_pixels)\n",
    "    # save largest water body area\n",
    "    area_dict[year] = lakes.maximum*30*30*1e-6\n",
    "    \n",
    "    #optionally save the lake raster \n",
    "    #lakes.save(r'C:\\Temp\\lake_mead_' + str(year) + '.tif')\n",
    "    \n",
    "    year += 1"
   ]
  },
  {
   "cell_type": "markdown",
   "metadata": {},
   "source": [
    "## Lake Mead area change visualization"
   ]
  },
  {
   "cell_type": "code",
   "execution_count": null,
   "metadata": {
    "scrolled": false
   },
   "outputs": [],
   "source": [
    "# Sort by year\n",
    "lists = sorted(area_dict.items())\n",
    "\n",
    "# Extract year and lake area\n",
    "x, y = zip(*lists)\n",
    "x = [datetime.strptime(str(y), '%Y') for y in x]\n",
    "\n",
    "# Plot the result\n",
    "plt.plot(x, y)\n",
    "plt.xlabel('Year')\n",
    "plt.ylabel('Lake area ($km^2$)')\n",
    "plt.show()"
   ]
  }
 ],
 "metadata": {
  "kernelspec": {
   "display_name": "ArcGISPro",
   "language": "Python",
   "name": "python3"
  },
  "language_info": {
   "file_extension": ".py",
   "name": "python",
   "version": "3"
  }
 },
 "nbformat": 4,
 "nbformat_minor": 2
}
