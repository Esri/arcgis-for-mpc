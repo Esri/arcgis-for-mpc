{
 "cells": [
  {
   "cell_type": "markdown",
   "metadata": {},
   "source": [
    "# This notebook demonstrates the workflow of creating a cloud-free Landsat-9 imagery composite from Microsoft Planetary Computer for the Island of Hawaii"
   ]
  },
  {
   "cell_type": "markdown",
   "metadata": {},
   "source": [
    "The workflow includes the following steps:\n",
    "1. Find all the Landsat-9 scenes from summer of 2022 that covers Hawaii\n",
    "2. Create a RasterCollection from all the scenes\n",
    "3. Use a custom function to remove cloud pixels from all the Landsat images\n",
    "4. Use the median function to find the best pixel from all overlapping images\n",
    "\n",
    "#### Estimated running time: 10 minutes"
   ]
  },
  {
   "cell_type": "markdown",
   "metadata": {},
   "source": [
    "### Import relevant modules and create a RasterCollection of Landsat-9 images from planetary computer archive "
   ]
  },
  {
   "cell_type": "code",
   "execution_count": null,
   "metadata": {},
   "outputs": [],
   "source": [
    "import arcpy\n",
    "from arcpy import AIO"
   ]
  },
  {
   "cell_type": "code",
   "execution_count": null,
   "metadata": {},
   "outputs": [],
   "source": [
    "# Create an AIO object from the cloud storage connection file for data access\n",
    "a = AIO(r'C:\\AMPC_Resources\\ACS_Files\\esrims_pc_landsat-c2-l2.acs')"
   ]
  },
  {
   "cell_type": "code",
   "execution_count": null,
   "metadata": {},
   "outputs": [],
   "source": [
    "# Define the query to search for images\n",
    "query = {\n",
    "    \"collections\": [\"landsat-c2-l2\"], # Landsat collection 2 level 2 product (https://planetarycomputer.microsoft.com/dataset/landsat-c2-l2)\n",
    "    \"bbox\": [-156.1271927, 18.8710955, -154.7755921, 20.2990569], # Define bounding box over Hawaii\n",
    "    \"query\": {\"platform\": {\"in\": [\"landsat-9\"]}}, # Define query to only return Landsat-9 images\n",
    "    \"datetime\": \"2022-01-01/2022-12-31\", # Define time range\n",
    "    \"limit\": 1000, # Define max number of results to be returned\n",
    "          }"
   ]
  },
  {
   "cell_type": "markdown",
   "metadata": {},
   "source": [
    "**Certain files may be corrupted in the MPC collection so some datasets may be skipped**"
   ]
  },
  {
   "cell_type": "code",
   "execution_count": null,
   "metadata": {},
   "outputs": [],
   "source": [
    "# Create a RasterCollection object that contains the search results\n",
    "rc = arcpy.ia.RasterCollection.fromSTACAPI(stac_api=\"https://planetarycomputer.microsoft.com/api/stac/v1\",\n",
    "                                  query=query,\n",
    "                                  attribute_dict={\n",
    "                                      \"Name\":\"id\",\n",
    "                                      \"Cloud Cover\":\"eo:cloud_cover\",\n",
    "                                      \"StdTime\":\"datetime\",\n",
    "                                      \"Platform\":\"platform\",\n",
    "                                      \"Spatial Reference\":\"proj:epsg\",\n",
    "                                      \"Extent\": \"bbox\",\n",
    "                                    })"
   ]
  },
  {
   "cell_type": "code",
   "execution_count": null,
   "metadata": {},
   "outputs": [],
   "source": [
    "# Visualize the RasterCollection\n",
    "rc"
   ]
  },
  {
   "cell_type": "markdown",
   "metadata": {},
   "source": [
    "### Define a function to remove cloud pixels and compute cloud-free composite"
   ]
  },
  {
   "cell_type": "code",
   "execution_count": null,
   "metadata": {},
   "outputs": [],
   "source": [
    "# Define function to remove cloud pixels based on QA band\n",
    "def remove_cloud(item):\n",
    "    raster = item['Raster']\n",
    "    qa_band = raster.getRasterBands(['QA'])\n",
    "    \n",
    "    cloud_mask = arcpy.ia.TransposeBits(qa_band, [0,1,2,3,4], [0,1,2,3,4], 0, None)\n",
    "    value_mask = ~cloud_mask\n",
    "    \n",
    "    cloud_free_raster = arcpy.ia.Clip(raster, aoi = value_mask)\n",
    "    \n",
    "    return {'raster': cloud_free_raster, \"Name\": item[\"Name\"], \"AcquisitionDate\": item[\"StdTime\"]}"
   ]
  },
  {
   "cell_type": "code",
   "execution_count": null,
   "metadata": {},
   "outputs": [],
   "source": [
    "# Apply the above function to remove cloud pixels from each image in the RasterCollection\n",
    "rc_cloud_free = rc.map(remove_cloud)"
   ]
  },
  {
   "cell_type": "code",
   "execution_count": null,
   "metadata": {},
   "outputs": [],
   "source": [
    "# Apply the Median function to find the most representative pixels value from overlapping images\n",
    "cloud_free_composite_median = rc_cloud_free.median(ignore_nodata = True, extent_type = 'UnionOf')"
   ]
  },
  {
   "cell_type": "code",
   "execution_count": null,
   "metadata": {},
   "outputs": [],
   "source": [
    "# Display the cloud free image composite\n",
    "cloud_free_composite_median"
   ]
  }
 ],
 "metadata": {
  "kernelspec": {
   "display_name": "ArcGISPro",
   "language": "Python",
   "name": "python3"
  },
  "language_info": {
   "file_extension": ".py",
   "name": "python",
   "version": "3"
  }
 },
 "nbformat": 4,
 "nbformat_minor": 2
}
